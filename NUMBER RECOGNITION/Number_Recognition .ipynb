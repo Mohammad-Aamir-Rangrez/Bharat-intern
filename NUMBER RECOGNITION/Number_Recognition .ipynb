{
 "cells": [
  {
   "cell_type": "markdown",
   "id": "047e44de",
   "metadata": {},
   "source": [
    "# Project: Bharat intern June-2023\n",
    "# Mohammad Aamir Rangrez\n",
    "# number Recgnition "
   ]
  },
  {
   "cell_type": "markdown",
   "id": "a2030294",
   "metadata": {},
   "source": [
    "# **Table of Contents:**\n",
    "* Import Libraries\n",
    "* Getting the Data\n",
    "* Load and preprocess the MNIST dataset\n",
    "* Build the nural network model\n",
    "* Train the model\n",
    "* Evaluate the model\n",
    "* Plot the training history\n",
    "* Submission\n",
    "* Make Prediction "
   ]
  },
  {
   "cell_type": "markdown",
   "id": "17ee8292",
   "metadata": {},
   "source": [
    "# Importing libraries"
   ]
  },
  {
   "cell_type": "code",
   "execution_count": 1,
   "id": "6c69327a",
   "metadata": {},
   "outputs": [],
   "source": [
    "import numpy as np\n",
    "import matplotlib.pyplot as plt\n",
    "from sklearn.model_selection import train_test_split\n",
    "from sklearn.metrics import accuracy_score\n",
    "from keras.datasets import mnist\n",
    "from keras.models import Sequential\n",
    "from keras.layers import Dense, Dropout\n",
    "from keras.utils import np_utils"
   ]
  },
  {
   "cell_type": "markdown",
   "id": "89e538c1",
   "metadata": {},
   "source": [
    "# Load and preprocess the MNIST dataset"
   ]
  },
  {
   "cell_type": "code",
   "execution_count": 2,
   "id": "1b576c89",
   "metadata": {},
   "outputs": [],
   "source": [
    "(x_train, y_train),(x_test,y_test) = mnist.load_data()\n",
    "\n",
    "# Flatten the input images from 28x28  pixel to 784-dimension vectors\n",
    "x_train = x_train.reshape(x_train.shape[0], 784).astype('float32')\n",
    "x_test = x_test.reshape(x_test.shape[0], 784).astype('float32')\n",
    "\n",
    "# normalize the pixel vallues between 0  and 1\n",
    "x_train /=255\n",
    "x_test /= 255\n",
    "\n",
    "# convert the target labels to categorica one-hot encoding \n",
    "y_train =np_utils.to_categorical(y_train, 10)\n",
    "y_test = np_utils.to_categorical(y_test, 10)"
   ]
  },
  {
   "cell_type": "markdown",
   "id": "196ad17b",
   "metadata": {},
   "source": [
    "# Build the nural network model"
   ]
  },
  {
   "cell_type": "code",
   "execution_count": 3,
   "id": "3a0edc65",
   "metadata": {},
   "outputs": [],
   "source": [
    "model = Sequential()\n",
    "model.add(Dense(512, input_shape=(784,),activation='relu'))\n",
    "model.add(Dropout(0.2))\n",
    "model.add(Dense(512, activation='relu'))\n",
    "model.add(Dropout(0.2))\n",
    "model.add(Dense(10,activation='softmax'))\n",
    "\n",
    "model.compile(loss = 'categorical_crossentropy',optimizer='adam',metrics=['accuracy'])"
   ]
  },
  {
   "cell_type": "markdown",
   "id": "ea82b145",
   "metadata": {},
   "source": [
    "# Train the model"
   ]
  },
  {
   "cell_type": "code",
   "execution_count": 4,
   "id": "545930a6",
   "metadata": {},
   "outputs": [
    {
     "name": "stdout",
     "output_type": "stream",
     "text": [
      "Epoch 1/10\n",
      "469/469 [==============================] - 36s 43ms/step - loss: 0.2454 - accuracy: 0.9267 - val_loss: 0.1128 - val_accuracy: 0.9656\n",
      "Epoch 2/10\n",
      "469/469 [==============================] - 8s 16ms/step - loss: 0.1015 - accuracy: 0.9689 - val_loss: 0.0907 - val_accuracy: 0.9707\n",
      "Epoch 3/10\n",
      "469/469 [==============================] - 7s 16ms/step - loss: 0.0707 - accuracy: 0.9781 - val_loss: 0.0800 - val_accuracy: 0.9758\n",
      "Epoch 4/10\n",
      "469/469 [==============================] - 8s 18ms/step - loss: 0.0561 - accuracy: 0.9818 - val_loss: 0.0629 - val_accuracy: 0.9801\n",
      "Epoch 5/10\n",
      "469/469 [==============================] - 8s 18ms/step - loss: 0.0446 - accuracy: 0.9857 - val_loss: 0.0648 - val_accuracy: 0.9806\n",
      "Epoch 6/10\n",
      "469/469 [==============================] - 8s 16ms/step - loss: 0.0401 - accuracy: 0.9865 - val_loss: 0.0639 - val_accuracy: 0.9810\n",
      "Epoch 7/10\n",
      "469/469 [==============================] - 7s 16ms/step - loss: 0.0355 - accuracy: 0.9887 - val_loss: 0.0736 - val_accuracy: 0.9797\n",
      "Epoch 8/10\n",
      "469/469 [==============================] - 8s 17ms/step - loss: 0.0307 - accuracy: 0.9899 - val_loss: 0.0630 - val_accuracy: 0.9825\n",
      "Epoch 9/10\n",
      "469/469 [==============================] - 8s 18ms/step - loss: 0.0252 - accuracy: 0.9911 - val_loss: 0.0698 - val_accuracy: 0.9813\n",
      "Epoch 10/10\n",
      "469/469 [==============================] - 9s 18ms/step - loss: 0.0260 - accuracy: 0.9911 - val_loss: 0.0660 - val_accuracy: 0.9835\n"
     ]
    }
   ],
   "source": [
    "history = model.fit(x_train, y_train, validation_data=(x_test,y_test), epochs=10,batch_size=128)"
   ]
  },
  {
   "cell_type": "markdown",
   "id": "60ceacdd",
   "metadata": {},
   "source": [
    "# Evaluate the model"
   ]
  },
  {
   "cell_type": "code",
   "execution_count": 5,
   "id": "9d20196b",
   "metadata": {},
   "outputs": [
    {
     "name": "stdout",
     "output_type": "stream",
     "text": [
      "313/313 [==============================] - 2s 5ms/step - loss: 0.0660 - accuracy: 0.9835\n",
      "accuracy: 0.9835000038146973\n"
     ]
    }
   ],
   "source": [
    "accuracy = model.evaluate(x_test,y_test)[1]\n",
    "print(\"accuracy:\",accuracy)"
   ]
  },
  {
   "cell_type": "markdown",
   "id": "1b018a0d",
   "metadata": {},
   "source": [
    "# Plot the training history"
   ]
  },
  {
   "cell_type": "code",
   "execution_count": 6,
   "id": "fe47773a",
   "metadata": {},
   "outputs": [
    {
     "data": {
      "image/png": "[encoded data removed]",
      "text/plain": [
       "<Figure size 432x288 with 1 Axes>"
      ]
     },
     "metadata": {
      "needs_background": "light"
     },
     "output_type": "display_data"
    }
   ],
   "source": [
    "plt.plot(history.history['accuracy'])\n",
    "plt.plot(history.history['val_accuracy'])\n",
    "plt.title('Model Accuracy')\n",
    "plt.ylabel(\"Accuracy\")\n",
    "plt.xlabel('Epoch')\n",
    "plt.legend(['Train','Test'],loc = 'upper left')\n",
    "plt.show()"
   ]
  },
  {
   "cell_type": "markdown",
   "id": "0672fa89",
   "metadata": {},
   "source": [
    "# Make Predictions"
   ]
  },
  {
   "cell_type": "code",
   "execution_count": 7,
   "id": "8553b644",
   "metadata": {},
   "outputs": [
    {
     "name": "stdout",
     "output_type": "stream",
     "text": [
      "1/1 [==============================] - 1s 553ms/step\n",
      "Predicted digit: 7\n"
     ]
    }
   ],
   "source": [
    "digit = x_test[0]\n",
    "digit = np.expand_dims(digit, axis=0)\n",
    "prediction = model.predict(digit)\n",
    "predicted_class = np.argmax(prediction)\n",
    "print(\"Predicted digit:\", predicted_class)"
   ]
  },
  {
   "cell_type": "markdown",
   "id": "a103f9a8",
   "metadata": {},
   "source": [
    "# Thank you .... :)\n"
   ]
  },
  {
   "cell_type": "code",
   "execution_count": null,
   "id": "42874633",
   "metadata": {},
   "outputs": [],
   "source": []
  }
 ],
 "metadata": {
  "kernelspec": {
   "display_name": "Python 3 (ipykernel)",
   "language": "python",
   "name": "python3"
  },
  "language_info": {
   "codemirror_mode": {
    "name": "ipython",
    "version": 3
   },
   "file_extension": ".py",
   "mimetype": "text/x-python",
   "name": "python",
   "nbconvert_exporter": "python",
   "pygments_lexer": "ipython3",
   "version": "3.9.7"
  }
 },
 "nbformat": 4,
 "nbformat_minor": 5
}
